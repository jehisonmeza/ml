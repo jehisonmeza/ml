{
 "cells": [
  {
   "cell_type": "markdown",
   "metadata": {},
   "source": [
    "Select a data challenge or a dataset of your interest\n",
    "\n",
    "- [Kaggle Competitions](https://www.kaggle.com/competitions)\n",
    "- [UCI Machine Learning Repository](http://archive.ics.uci.edu/ml/)\n",
    "\n",
    "Recommendations:\n",
    "- Understand dataset \n",
    "- Understand evaluation metric\n",
    "- Understand submission rules (for Kaggle)\n",
    "- Inspect existing kernels (for Kaggle)"
   ]
  },
  {
   "cell_type": "code",
   "execution_count": null,
   "metadata": {},
   "outputs": [],
   "source": []
  }
 ],
 "metadata": {
  "kernelspec": {
   "display_name": "Python 2",
   "language": "python",
   "name": "python2"
  },
  "language_info": {
   "codemirror_mode": {
    "name": "ipython",
    "version": 2
   },
   "file_extension": ".py",
   "mimetype": "text/x-python",
   "name": "python",
   "nbconvert_exporter": "python",
   "pygments_lexer": "ipython2",
   "version": "2.7.15"
  }
 },
 "nbformat": 4,
 "nbformat_minor": 2
}
